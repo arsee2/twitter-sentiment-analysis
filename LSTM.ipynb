{
 "cells": [
  {
   "cell_type": "markdown",
   "metadata": {},
   "source": [
    "## Imports"
   ]
  },
  {
   "cell_type": "code",
   "execution_count": 29,
   "metadata": {},
   "outputs": [],
   "source": [
    "from keras.preprocessing import sequence\n",
    "from keras.models import Sequential\n",
    "from keras.layers import Dense, Embedding,Dropout,Activation,Flatten,AveragePooling1D,Conv1D,MaxPooling1D\n",
    "from keras.layers import LSTM\n",
    "from keras.datasets import imdb\n",
    "from sklearn.model_selection import train_test_split\n",
    "from nltk.tokenize import TweetTokenizer\n",
    "from nltk.corpus import stopwords\n",
    "from nltk.stem import PorterStemmer\n",
    "import pandas as pd\n",
    "import numpy as np\n",
    "import gensim \n",
    "import re\n",
    "from sklearn.metrics import accuracy_score"
   ]
  },
  {
   "cell_type": "markdown",
   "metadata": {},
   "source": [
    "## Constants"
   ]
  },
  {
   "cell_type": "code",
   "execution_count": 2,
   "metadata": {},
   "outputs": [],
   "source": [
    "# You can dowlaod dataset from:\n",
    "# https://www.kaggle.com/c/twitter-sentiment-analysis2/data\n",
    "path_to_dataset = \"C:/Users/arsee/Desktop/nlp/train.csv\"\n",
    "max_words = 100\n",
    "maxlen = 80 \n",
    "batch_size = 128\n",
    "word2vec_size= 32"
   ]
  },
  {
   "cell_type": "markdown",
   "metadata": {},
   "source": [
    "## Loading data"
   ]
  },
  {
   "cell_type": "code",
   "execution_count": 3,
   "metadata": {},
   "outputs": [],
   "source": [
    "data = pd.read_csv(path_to_dataset,encoding='windows-1252')\n",
    "x = data['SentimentText'].values\n",
    "y = data[\"Sentiment\"].values\n",
    "x_train, x_test, y_train, y_test = train_test_split(x, y, test_size=0.1, random_state=42)"
   ]
  },
  {
   "cell_type": "markdown",
   "metadata": {},
   "source": [
    "## Data preprocessing "
   ]
  },
  {
   "cell_type": "code",
   "execution_count": 4,
   "metadata": {},
   "outputs": [],
   "source": [
    "stop_words = set(stopwords.words('english'))\n",
    "stemmer = PorterStemmer()\n",
    "\n",
    "def remove_special_symbols(sent):\n",
    "    sent  =  ' '.join([w for w in sent.split() if \"@\" not in w])\n",
    "    return ' '.join(re.sub(\"(@[A-Za-z0-9]+)|([^0-9A-Za-z \\t])|(\\w+:\\/\\/\\S+)\",\" \",sent).split())\n",
    "\n",
    "def remove_redundant_characters(word):\n",
    "    return re.sub(r\"(.)\\1+\", r\"\\1\\1\", word)\n",
    "\n",
    "def preprocess(list_of_words):\n",
    "    words = [remove_redundant_characters(w.lower()) for w in list_of_words]\n",
    "    words = [w for w in words if w.isalpha()]\n",
    "    words = [remove_redundant_characters(w) for w in words if w not in stop_words]\n",
    "    words = [stemmer.stem(w) for w in words if w not in stop_words]\n",
    "    \n",
    "    return words"
   ]
  },
  {
   "cell_type": "code",
   "execution_count": 5,
   "metadata": {},
   "outputs": [],
   "source": [
    "tk = TweetTokenizer()\n",
    "X_train = [remove_special_symbols(text) for text in x_train]\n",
    "X_train = [tk.tokenize(text) for text in X_train]\n",
    "X_train = [preprocess(sent) for sent in X_train]\n",
    "\n",
    "X_test = [remove_special_symbols(text) for text in x_test]\n",
    "X_test = [tk.tokenize(text) for text in X_test]\n",
    "X_test = [preprocess(sent) for sent in X_test]"
   ]
  },
  {
   "cell_type": "markdown",
   "metadata": {},
   "source": [
    "## Word2Vec training"
   ]
  },
  {
   "cell_type": "code",
   "execution_count": 6,
   "metadata": {},
   "outputs": [
    {
     "name": "stderr",
     "output_type": "stream",
     "text": [
      "C:\\Program Files (x86)\\Microsoft Visual Studio\\Shared\\Anaconda3_64\\lib\\site-packages\\ipykernel_launcher.py:9: DeprecationWarning: Call to deprecated `syn0` (Attribute will be removed in 4.0.0, use self.wv.vectors instead).\n",
      "  if __name__ == '__main__':\n"
     ]
    }
   ],
   "source": [
    "word2vec_model = gensim.models.Word2Vec(\n",
    "        X_train,\n",
    "        size=word2vec_size,\n",
    "        window=10,\n",
    "        min_count=2,\n",
    "        workers=10)\n",
    "word2vec_model.train(X_train, total_examples=len(X_train), epochs=50)\n",
    "\n",
    "\n",
    "pretrained_weights = word2vec_model.wv.syn0\n",
    "vocab_size, emdedding_size = pretrained_weights.shape\n",
    "\n",
    "def word2idx(word):\n",
    "    if word in word2vec_model.wv.vocab:\n",
    "        return word2vec_model.wv.vocab[word].index\n",
    "    else:\n",
    "        return vocab_size-1"
   ]
  },
  {
   "cell_type": "markdown",
   "metadata": {},
   "source": [
    "## Most similar words for \"bad\""
   ]
  },
  {
   "cell_type": "code",
   "execution_count": 7,
   "metadata": {},
   "outputs": [
    {
     "name": "stderr",
     "output_type": "stream",
     "text": [
      "C:\\Program Files (x86)\\Microsoft Visual Studio\\Shared\\Anaconda3_64\\lib\\site-packages\\ipykernel_launcher.py:1: DeprecationWarning: Call to deprecated `most_similar` (Method will be removed in 4.0.0, use self.wv.most_similar() instead).\n",
      "  \"\"\"Entry point for launching an IPython kernel.\n",
      "C:\\Program Files (x86)\\Microsoft Visual Studio\\Shared\\Anaconda3_64\\lib\\site-packages\\gensim\\matutils.py:737: FutureWarning: Conversion of the second argument of issubdtype from `int` to `np.signedinteger` is deprecated. In future, it will be treated as `np.int32 == np.dtype(int).type`.\n",
      "  if np.issubdtype(vec.dtype, np.int):\n"
     ]
    },
    {
     "data": {
      "text/plain": [
       "[('horribl', 0.7160726189613342),\n",
       " ('wors', 0.6436370015144348),\n",
       " ('worst', 0.6216478943824768),\n",
       " ('unlov', 0.6133800148963928),\n",
       " ('good', 0.6130462288856506),\n",
       " ('crap', 0.5749754905700684),\n",
       " ('nasti', 0.5736783742904663),\n",
       " ('sunbath', 0.5698460340499878),\n",
       " ('exactli', 0.5638651847839355),\n",
       " ('ugh', 0.5378111600875854)]"
      ]
     },
     "execution_count": 7,
     "metadata": {},
     "output_type": "execute_result"
    }
   ],
   "source": [
    "word2vec_model.most_similar(\"bad\")"
   ]
  },
  {
   "cell_type": "markdown",
   "metadata": {},
   "source": [
    "## Example of preprocessing data"
   ]
  },
  {
   "cell_type": "code",
   "execution_count": 8,
   "metadata": {},
   "outputs": [
    {
     "name": "stdout",
     "output_type": "stream",
     "text": [
      "@cathystarmaker oooo I think I need to speak to this Greg fellow, I want more tips! Looking forward to the release of his book!   ======>  ['oo', 'think', 'need', 'speak', 'greg', 'fellow', 'want', 'tip', 'look', 'forward', 'releas', 'book']\n",
      "@blonddie38@beth_warren I do the belt thing and have a collection if really cool belt buckles. They don't seem to help.   ======>  ['belt', 'thing', 'collect', 'realli', 'cool', 'belt', 'buckl', 'seem', 'help']\n",
      "@Celticthebest cool man, glad you enjoyed   ======>  ['cool', 'man', 'glad', 'enjoy']\n",
      "@Caius it got to the stage where enough is enough   ======>  ['got', 'stage', 'enough', 'enough']\n",
      "@BucketBaby I can't wait to see what kind of noise those two will make next season... How did the draft go?? I missed it ALL!!   ======>  ['wait', 'see', 'kind', 'nois', 'two', 'make', 'next', 'season', 'draft', 'go', 'miss']\n",
      "@big_bad_toxman I love getting calls from extended family with 10 year old computers infested with malware and they expect me to fix it.   ======>  ['love', 'get', 'call', 'extend', 'famili', 'year', 'old', 'comput', 'infest', 'malwar', 'expect', 'fix']\n",
      "@AZBryan You should have been hitting up Martini Ranch! Lots of awesome cheap skanks coming out of that place tonight!   ======>  ['hit', 'martini', 'ranch', 'lot', 'awesom', 'cheap', 'skank', 'come', 'place', 'tonight']\n",
      "@allMywonders I miss summer too.   ======>  ['miss', 'summer']\n",
      "@bngr Studying will not save him now  Muahahahahahahaha! Caffiene is the trick!  ======>  ['studi', 'save', 'muahahahahahahaha', 'caffien', 'trick']\n",
      "@CSI_PrintChick you know something similar happens to me everytime I go to see them, is like I never want to leave so I am with ya girl   ======>  ['know', 'someth', 'similar', 'happen', 'everytim', 'go', 'see', 'like', 'never', 'want', 'leav', 'ya', 'girl']\n"
     ]
    }
   ],
   "source": [
    "for i in range(10):\n",
    "    print(x_train[i],\" ======> \",X_train[i])"
   ]
  },
  {
   "cell_type": "markdown",
   "metadata": {},
   "source": [
    "## Converting to vectors"
   ]
  },
  {
   "cell_type": "code",
   "execution_count": 9,
   "metadata": {},
   "outputs": [],
   "source": [
    "train_x = np.zeros([len(X_train), max_words], dtype=np.int32)\n",
    "test_x = np.zeros([len(X_test), max_words], dtype=np.int32)\n",
    "for i, sentence in enumerate(X_train):\n",
    "      for t, word in enumerate(sentence):\n",
    "            if t>=max_words:\n",
    "                break\n",
    "            train_x[i, t] = word2idx(word)\n",
    "            \n",
    "for i, sentence in enumerate(X_test):\n",
    "      for t, word in enumerate(sentence):\n",
    "            if t>=max_words:\n",
    "                break\n",
    "            test_x[i, t] = word2idx(word)"
   ]
  },
  {
   "cell_type": "markdown",
   "metadata": {},
   "source": [
    "## Training and evaluating model"
   ]
  },
  {
   "cell_type": "code",
   "execution_count": 30,
   "metadata": {
    "scrolled": false
   },
   "outputs": [
    {
     "name": "stdout",
     "output_type": "stream",
     "text": [
      "Train...\n",
      "Train on 89990 samples, validate on 9999 samples\n",
      "Epoch 1/15\n",
      "89990/89990 [==============================] - 47s 527us/step - loss: 0.6386 - acc: 0.6364 - val_loss: 0.5638 - val_acc: 0.7180\n",
      "Epoch 2/15\n",
      "89990/89990 [==============================] - 45s 503us/step - loss: 0.5650 - acc: 0.7104 - val_loss: 0.5219 - val_acc: 0.7411\n",
      "Epoch 3/15\n",
      "89990/89990 [==============================] - 45s 501us/step - loss: 0.5409 - acc: 0.7235 - val_loss: 0.5127 - val_acc: 0.7445\n",
      "Epoch 4/15\n",
      "89990/89990 [==============================] - 46s 506us/step - loss: 0.5297 - acc: 0.7332 - val_loss: 0.5085 - val_acc: 0.7487\n",
      "Epoch 5/15\n",
      "89990/89990 [==============================] - 45s 498us/step - loss: 0.5197 - acc: 0.7414 - val_loss: 0.5026 - val_acc: 0.7528\n",
      "Epoch 6/15\n",
      "89990/89990 [==============================] - 44s 491us/step - loss: 0.5105 - acc: 0.7464 - val_loss: 0.5019 - val_acc: 0.7492\n",
      "Epoch 7/15\n",
      "89990/89990 [==============================] - 45s 501us/step - loss: 0.5054 - acc: 0.7503 - val_loss: 0.5006 - val_acc: 0.7521\n",
      "Epoch 8/15\n",
      "89990/89990 [==============================] - 45s 501us/step - loss: 0.4965 - acc: 0.7563 - val_loss: 0.4983 - val_acc: 0.7532\n",
      "Epoch 9/15\n",
      "89990/89990 [==============================] - 45s 500us/step - loss: 0.4917 - acc: 0.7609 - val_loss: 0.4958 - val_acc: 0.7571\n",
      "Epoch 10/15\n",
      "89990/89990 [==============================] - 45s 498us/step - loss: 0.4861 - acc: 0.7647 - val_loss: 0.4974 - val_acc: 0.7580\n",
      "Epoch 11/15\n",
      "89990/89990 [==============================] - 45s 496us/step - loss: 0.4815 - acc: 0.7668 - val_loss: 0.5045 - val_acc: 0.7510\n",
      "Epoch 12/15\n",
      "89990/89990 [==============================] - 45s 496us/step - loss: 0.4778 - acc: 0.7704 - val_loss: 0.4940 - val_acc: 0.7574\n",
      "Epoch 13/15\n",
      "89990/89990 [==============================] - 44s 492us/step - loss: 0.4717 - acc: 0.7722 - val_loss: 0.4948 - val_acc: 0.7581\n",
      "Epoch 14/15\n",
      "89990/89990 [==============================] - 44s 494us/step - loss: 0.4670 - acc: 0.7756 - val_loss: 0.4991 - val_acc: 0.7604\n",
      "Epoch 15/15\n",
      "89990/89990 [==============================] - 45s 496us/step - loss: 0.4639 - acc: 0.7777 - val_loss: 0.5001 - val_acc: 0.7538\n",
      "9999/9999 [==============================] - 1s 112us/step\n"
     ]
    }
   ],
   "source": [
    "model = Sequential()\n",
    "model.add(Embedding(trainable=True,input_dim=vocab_size, output_dim=emdedding_size, \n",
    "                    weights=[pretrained_weights]))\n",
    "model.add(Dropout(0.25))\n",
    "model.add(Conv1D(filters=32, kernel_size=5, padding='same', activation='relu'))\n",
    "model.add(Dropout(0.25))\n",
    "model.add(MaxPooling1D(pool_size=2))\n",
    "model.add(LSTM(units=emdedding_size,dropout=0.25, recurrent_dropout=0.25))\n",
    "model.add(Dense(1024, activation='sigmoid'))\n",
    "model.add(Dropout(0.25))\n",
    "model.add(Dense(1, activation='sigmoid'))\n",
    "\n",
    "\n",
    "model.compile(loss='binary_crossentropy',\n",
    "              optimizer='adam',\n",
    "              metrics=['accuracy'])\n",
    "\n",
    "print('Train...')\n",
    "model.fit(train_x, y_train,\n",
    "          batch_size=batch_size,\n",
    "          epochs=15,\n",
    "          \n",
    "          validation_data=(test_x, y_test))\n",
    "score, acc = model.evaluate(test_x, y_test,\n",
    "                            batch_size=batch_size)\n"
   ]
  },
  {
   "cell_type": "code",
   "execution_count": 34,
   "metadata": {},
   "outputs": [
    {
     "name": "stdout",
     "output_type": "stream",
     "text": [
      "0.7537753775615981\n"
     ]
    }
   ],
   "source": [
    "print(acc)"
   ]
  },
  {
   "cell_type": "markdown",
   "metadata": {},
   "source": [
    "## Summary of model"
   ]
  },
  {
   "cell_type": "code",
   "execution_count": 33,
   "metadata": {},
   "outputs": [
    {
     "name": "stdout",
     "output_type": "stream",
     "text": [
      "_________________________________________________________________\n",
      "Layer (type)                 Output Shape              Param #   \n",
      "=================================================================\n",
      "embedding_11 (Embedding)     (None, None, 32)          485376    \n",
      "_________________________________________________________________\n",
      "dropout_20 (Dropout)         (None, None, 32)          0         \n",
      "_________________________________________________________________\n",
      "conv1d_11 (Conv1D)           (None, None, 32)          5152      \n",
      "_________________________________________________________________\n",
      "max_pooling1d_1 (MaxPooling1 (None, None, 32)          0         \n",
      "_________________________________________________________________\n",
      "lstm_10 (LSTM)               (None, 32)                8320      \n",
      "_________________________________________________________________\n",
      "dense_19 (Dense)             (None, 1024)              33792     \n",
      "_________________________________________________________________\n",
      "dropout_21 (Dropout)         (None, 1024)              0         \n",
      "_________________________________________________________________\n",
      "dense_20 (Dense)             (None, 1)                 1025      \n",
      "=================================================================\n",
      "Total params: 533,665\n",
      "Trainable params: 533,665\n",
      "Non-trainable params: 0\n",
      "_________________________________________________________________\n",
      "None\n"
     ]
    }
   ],
   "source": [
    "print(model.summary())"
   ]
  },
  {
   "cell_type": "code",
   "execution_count": 37,
   "metadata": {},
   "outputs": [
    {
     "data": {
      "text/plain": [
       "<matplotlib.legend.Legend at 0x1ef53653a90>"
      ]
     },
     "execution_count": 37,
     "metadata": {},
     "output_type": "execute_result"
    },
    {
     "data": {
      "image/png": "[encoded data removed]",
      "text/plain": [
       "<matplotlib.figure.Figure at 0x1ef53647e10>"
      ]
     },
     "metadata": {},
     "output_type": "display_data"
    }
   ],
   "source": [
    "import matplotlib.pyplot as plt\n",
    "plt.plot(model.history.history['acc'])\n",
    "plt.plot(model.history.history['val_acc'])\n",
    "plt.legend([\"Train accuracy\",\"Test accuracy \"])"
   ]
  },
  {
   "cell_type": "markdown",
   "metadata": {},
   "source": [
    "## Naive bayse as baseline"
   ]
  },
  {
   "cell_type": "code",
   "execution_count": 31,
   "metadata": {},
   "outputs": [],
   "source": [
    "import nltk\n",
    "def document_features(document):\n",
    "\n",
    "    document_words = set(document)\n",
    "    features = {}\n",
    "    for word in word_features:   \n",
    "        pass\n",
    "        features['contains({})'.format(word)] = (word in document_words)\n",
    "\n",
    "    return features\n",
    "\n",
    "data = pd.read_csv(path_to_dataset,encoding='windows-1252')\n",
    "x = data['SentimentText'].values[:10000] #10000 because my computer's RAM can't hol'd model for larger dataset\n",
    "y = data[\"Sentiment\"].values[:10000]\n",
    "tk = TweetTokenizer()\n",
    "X = [remove_special_symbols(text) for text in x]\n",
    "X = [tk.tokenize(text) for text in X]\n",
    "X = [preprocess(sent) for sent in X]\n",
    "\n",
    "documents = [(list(X[i]), y[i]) for i in range(len(X))]\n",
    "all_words = nltk.FreqDist([w.lower() for sent in X for w in sent ])\n",
    "word_features = all_words.most_common(2000)\n",
    "\n",
    "featuresets = [(document_features(d), c) for (d,c) in documents]\n",
    "train_features ,test_features = train_test_split(featuresets, test_size=0.1, random_state=42)"
   ]
  },
  {
   "cell_type": "markdown",
   "metadata": {},
   "source": [
    "## Accuracy of naive bayes"
   ]
  },
  {
   "cell_type": "code",
   "execution_count": 32,
   "metadata": {},
   "outputs": [
    {
     "name": "stdout",
     "output_type": "stream",
     "text": [
      "Accuracy 0.606\n"
     ]
    }
   ],
   "source": [
    "classifier = nltk.NaiveBayesClassifier.train(train_features)\n",
    "print('Accuracy', nltk.classify.accuracy(classifier, test_features))"
   ]
  }
 ],
 "metadata": {
  "kernelspec": {
   "display_name": "Python 3",
   "language": "python",
   "name": "python3"
  },
  "language_info": {
   "codemirror_mode": {
    "name": "ipython",
    "version": 3
   },
   "file_extension": ".py",
   "mimetype": "text/x-python",
   "name": "python",
   "nbconvert_exporter": "python",
   "pygments_lexer": "ipython3",
   "version": "3.6.4"
  }
 },
 "nbformat": 4,
 "nbformat_minor": 2
}
